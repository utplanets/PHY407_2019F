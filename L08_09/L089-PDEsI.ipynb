{
 "cells": [
  {
   "cell_type": "markdown",
   "metadata": {
    "slideshow": {
     "slide_type": "skip"
    }
   },
   "source": [
    "**Author: Nico Grisouard, nicolas.grisouard@physics.utoronto.ca**\n",
    "\n",
    "*Supporting textbook chapters for week 8: Chapter 9*"
   ]
  },
  {
   "cell_type": "markdown",
   "metadata": {
    "slideshow": {
     "slide_type": "slide"
    }
   },
   "source": [
    "Lecture 8 (and 9), topics:\n",
    "* Classifying PDEs\n",
    "* Elliptic equation solvers: Jacobi, Gauss-Seidel, overrelaxation\n",
    "* Parabolic equation solver: FTCS (Forward Time, Centered Space)\n",
    "* Stability,\n",
    "* Implicit and Crank-Nicholson methods,\n",
    "* Spectral method."
   ]
  },
  {
   "cell_type": "markdown",
   "metadata": {
    "slideshow": {
     "slide_type": "slide"
    }
   },
   "source": [
    "# Intro\n",
    "\n",
    "## Classifying PDEs\n",
    "\n",
    "Recall conical equations in geometry:\n",
    "$$ ax^2 + b xy + cy^2 + dx + ey = f, $$\n",
    "classified using \n",
    "$$ \\Delta = b^2 - 4ac.$$\n",
    "\n",
    "1. $\\Delta = 0$: equation for a parabola,\n",
    "3. $\\Delta < 0$: equation for an ellipse,\n",
    "2. $\\Delta > 0$: equation for a hyperbola.\n",
    "\n",
    "![By Pbroks13 [CC BY 3.0  (https://creativecommons.org/licenses/by/3.0)], from Wikimedia Commons](500px-Conic_sections_with_plane.png)"
   ]
  },
  {
   "cell_type": "markdown",
   "metadata": {
    "slideshow": {
     "slide_type": "subslide"
    }
   },
   "source": [
    "What does it have to do with PDEs?\n",
    "$$ a\\frac{\\partial^2 \\phi}{\\partial x^2} + b\\frac{\\partial^2 \\phi}{\\partial x\\partial y} + c\\frac{\\partial^2 \\phi}{\\partial y^2} + d\\frac{\\partial\\phi}{\\partial x} +  e\\frac{\\partial\\phi}{\\partial y} = f.$$\n",
    "\n",
    "Same classification applies (imagine Fourier transforms to convince yourself):\n",
    "$$ \\Delta = b^2 - 4ac.$$\n",
    "\n",
    "1. $\\Delta = 0$: parabolic PDE,\n",
    "3. $\\Delta < 0$: elliptic PDE,\n",
    "2. $\\Delta > 0$: hyperbolic PDE."
   ]
  },
  {
   "cell_type": "markdown",
   "metadata": {
    "slideshow": {
     "slide_type": "subslide"
    }
   },
   "source": [
    "$$ a\\frac{\\partial^2 \\phi}{\\partial x^2} + b\\frac{\\partial^2 \\phi}{\\partial x\\partial y} + c\\frac{\\partial^2 \\phi}{\\partial y^2} + d\\frac{\\partial\\phi}{\\partial x} +  e\\frac{\\partial\\phi}{\\partial y} = f.$$\n",
    "\n",
    "Same classification applies (imagine Fourier transforms to convince yourself):\n",
    "$$ \\Delta = b^2 - 4ac.$$\n",
    "\n",
    "1. Canonical parabolic PDE: the diffusion equation, $\\ \\displaystyle \\kappa \\nabla^2 \\phi  - \\frac{\\partial T}{\\partial t} = 0$,\n",
    "3. Canonical elliptic PDE: the Poisson equation, $\\ \\nabla^2 \\phi = \\rho$,\n",
    "2. Canonical hyperbolic PDE: the wave equation, $\\ \\displaystyle c^2 \\nabla^2 \\phi  - \\frac{\\partial^2 T}{\\partial t^2} = 0.$\n",
    "\n",
    "Note: we use these expressions even if $\\nabla^2 = \\partial_x^2 + \\partial_y^2 + \\partial_z^2$, i.e., for 4D PDEs. \n",
    "It is a \"perversion\" of the original classification (see http://www.math.toronto.edu/courses/apm346h1/20129/LA.html), but usually harmless in Physics."
   ]
  },
  {
   "cell_type": "markdown",
   "metadata": {
    "slideshow": {
     "slide_type": "subslide"
    }
   },
   "source": [
    "* Solving partial differential equations is one of the pinnacles of computational physics, bringing together many methods.\n",
    "* Parabolic, hyperbolic, elliptic PDE: each type comes with design decisions on how to discretize and implement numerical methods,\n",
    "* Stability is crucial"
   ]
  },
  {
   "cell_type": "markdown",
   "metadata": {
    "slideshow": {
     "slide_type": "subslide"
    }
   },
   "source": [
    "## Calculating the second derivative\n",
    "\n",
    "* Recall central difference calculation of 2nd derivative (§5.10.5):\n",
    "$$f''(x) = \\frac{f(x+h) - 2f(x)+ f(x-h)}{h^2} - \\frac{1}{12}h^2 f^{(4)}(x) + \\dots{}$$"
   ]
  },
  {
   "cell_type": "markdown",
   "metadata": {
    "slideshow": {
     "slide_type": "subslide"
    }
   },
   "source": [
    "## General approach\n",
    "\n",
    "* Discretize system spatially and temporally. Can use\n",
    "    * Finite difference\n",
    "    * Spectral coefficients\n",
    "    * Etc.\n",
    "* $\\Rightarrow$ set of coupled ODEs that you need to solve in an efficient way.\n",
    "* Spatial derivatives bring information in from neighbouring points $\\Rightarrow$ coupling,\n",
    "* $\\Rightarrow$ errors depend on space and time and can get wave-like characteristics."
   ]
  },
  {
   "cell_type": "markdown",
   "metadata": {
    "slideshow": {
     "slide_type": "slide"
    }
   },
   "source": [
    "# Elliptic equations\n",
    "\n",
    "* For solutions of Laplace's or Poisson's equation.\n",
    "* E.g.: electrostatics, with electric potential $\\phi$ s.t. $\\vec E  = \\nabla \\phi$, in the absence of charges ($\\rho \\equiv 0$).\n",
    "* Gauss' law:\n",
    "$$\\frac{\\partial^2 \\phi}{\\partial x^2} + \\frac{\\partial^2 \\phi}{\\partial y^2} = 0$$\n",
    "\n",
    "![Newman fig. 9.2](fig9-2.png)"
   ]
  },
  {
   "cell_type": "markdown",
   "metadata": {
    "slideshow": {
     "slide_type": "subslide"
    }
   },
   "source": [
    "On regular square grid, finite difference form of 2D Laplacian is\n",
    "$$\\nabla^2 \\phi  = \\frac{\\partial^2 \\phi}{\\partial x^2} + \\frac{\\partial^2 \\phi}{\\partial y^2},$$\n",
    "$$\\frac{\\partial^2 \\phi}{\\partial x^2} \\approx \\frac{\\phi(x+a, y) - 2\\phi(x, y)+ \\phi(x-a, y)}{a^2},$$\n",
    "$$\\frac{\\partial^2 \\phi}{\\partial y^2} \\approx \\frac{\\phi(x, y+a) - 2\\phi(x)+ \\phi(x, y-a)}{a^2},$$\n",
    "$$\\text{Gauss' law}\\ \\Rightarrow\\ 0 \\approx \\phi(x+a, y) + \\phi(x-a, y) + \\phi(x, y+a) + \\phi(x, y-a) - 4\\phi(x).$$"
   ]
  },
  {
   "cell_type": "markdown",
   "metadata": {
    "slideshow": {
     "slide_type": "subslide"
    }
   },
   "source": [
    "* Put together a series of equations of the form\n",
    "    $$\\phi(x+a, y) + \\phi(x-a, y) + \\phi(x, y+a) + \\phi(x, y-a) - 4\\phi(x) = 0$$\n",
    "    for each $x$ and $y$, subject to boundary conditions.\n",
    "* $\\phi$ or derivative $\\partial\\phi/\\partial \\xi$ ($\\xi = x,\\ y,$ or both) given on boundary. How would you handle these?\n",
    "* If $\\phi$ given, use this value for adjacent points.\n",
    "* If $\\partial\\phi/\\partial \\xi$ given, find algebraic relationship between points near to boundary using finite difference.\n",
    "* Could solve using matrix methods:\n",
    "    $$\\mathbf L \\phi = \\mathbf R \\phi,$$\n",
    "    but a simpler method is possible.\n"
   ]
  },
  {
   "cell_type": "markdown",
   "metadata": {
    "slideshow": {
     "slide_type": "subslide"
    }
   },
   "source": [
    "## Jacobi relaxation method\n",
    "\n",
    "$$\\phi(x+a, y) + \\phi(x-a, y) + \\phi(x, y+a) + \\phi(x, y-a) - 4\\phi(x) = 0$$\n",
    "* Iterate the rule\n",
    "$$\\underbrace{\\phi'}_{\\substack{\\text{``}\\phi\\\\prime\\text{''}}}(x, y) = \\frac{\\phi(x+a, y) + \\phi(x-a, y) + \\phi(x, y+a) + \\phi(x, y-a)}4.$$\n",
    "* Much like the relaxation method for finding solutions of $f(x) = x$,\n",
    "* For this problem it turns out that Jacobi Relaxation is always stable and so always gives a solution!\n",
    "* Let's look at `laplace.py`"
   ]
  },
  {
   "cell_type": "code",
   "execution_count": 3,
   "metadata": {
    "slideshow": {
     "slide_type": "subslide"
    }
   },
   "outputs": [
    {
     "data": {
      "image/png": "[encoded data removed]",
      "text/plain": [
       "<Figure size 432x288 with 1 Axes>"
      ]
     },
     "metadata": {
      "needs_background": "light"
     },
     "output_type": "display_data"
    }
   ],
   "source": [
    "# %load laplace.py\n",
    "# Newman's laplace.py\n",
    "from numpy import empty, zeros, max\n",
    "from pylab import imshow, gray, show\n",
    "\n",
    "# Constants\n",
    "M = 100         # Grid squares on a side\n",
    "V = 1.0         # Voltage at top wall\n",
    "target = 1e-6   # Target accuracy\n",
    "\n",
    "# Create arrays to hold potential values\n",
    "phi = zeros([M+1, M+1], float)\n",
    "phi[0, :] = V\n",
    "phiprime = empty([M+1, M+1], float)\n",
    "\n",
    "# Main loop\n",
    "delta = 1.0\n",
    "while delta > target:\n",
    "\n",
    "    # Calculate new values of the potential\n",
    "    for i in range(M+1):\n",
    "        for j in range(M+1):\n",
    "            if i == 0 or i == M or j == 0 or j == M:\n",
    "                phiprime[i, j] = phi[i, j]\n",
    "            else:\n",
    "                phiprime[i, j] = (phi[i+1, j] + phi[i-1, j]\n",
    "                                  + phi[i, j+1] + phi[i, j-1])/4\n",
    "\n",
    "    # Calculate maximum difference from old values\n",
    "    delta = max(abs(phi-phiprime))\n",
    "\n",
    "    # Swap the two arrays around\n",
    "    phi, phiprime = phiprime, phi\n",
    "\n",
    "# Make a plot\n",
    "imshow(phi)\n",
    "gray()\n",
    "show()\n"
   ]
  },
  {
   "cell_type": "markdown",
   "metadata": {
    "slideshow": {
     "slide_type": "subslide"
    }
   },
   "source": [
    "## Overrelaxation method\n",
    "\n",
    "* $\\displaystyle \\phi'(x, y) = (1+\\omega)\\left[\\frac{\\phi(x+a, y) + \\phi(x-a, y) + \\phi(x, y+a) + \\phi(x, y-a)}4\\right] - \\omega \\phi(x, y).$\n",
    "* Not always stable! How to choose $\\omega$ is not always reproducible.\n",
    "* see Lab \\#4 for a similar problem."
   ]
  },
  {
   "cell_type": "markdown",
   "metadata": {
    "slideshow": {
     "slide_type": "subslide"
    }
   },
   "source": [
    "## Gauss-Seidel method\n",
    "\n",
    "* Replace function on the fly as in\n",
    "$$\\phi(x, y) \\leftarrow \\frac{\\phi(x+a, y) + \\phi(x-a, y) + \\phi(x, y+a) + \\phi(x, y-a)}4.$$\n",
    "* Crucial difference: the LHS is $\\phi$, not $\\phi'$: we use newer values as they are being computed\n",
    "* (Jacobi used only old values to compute new one).\n",
    "* This can be shown to run faster.\n",
    "* Can be combined with overrelaxation."
   ]
  },
  {
   "cell_type": "markdown",
   "metadata": {
    "slideshow": {
     "slide_type": "subslide"
    }
   },
   "source": [
    "The old Jacobi code snippet:"
   ]
  },
  {
   "cell_type": "code",
   "execution_count": null,
   "metadata": {},
   "outputs": [],
   "source": [
    "# Calculate new values of the potential\n",
    "for i in range(M+1):\n",
    "    for j in range(M+1):\n",
    "        if i == 0 or i == M or j == 0 or j == M:\n",
    "            phiprime[i, j] = phi[i, j]\n",
    "        else:\n",
    "            phiprime[i, j] = (phi[i+1, j] + phi[i-1, j]\n",
    "                              + phi[i, j+1] + phi[i, j-1])/4"
   ]
  },
  {
   "cell_type": "markdown",
   "metadata": {},
   "source": [
    "becomes:"
   ]
  },
  {
   "cell_type": "code",
   "execution_count": null,
   "metadata": {},
   "outputs": [],
   "source": [
    "# Calculate new values of the potential\n",
    "for i in range(1, M):  # CHANGE HERE: boundaries never updated\n",
    "    for j in range(1, M):  # CHANGE HERE\n",
    "        phi[i, j] = (phi[i+1, j] + phi[i-1, j]  # NO PHIPRIME\n",
    "                     + phi[i, j+1] + phi[i, j-1])/4"
   ]
  },
  {
   "cell_type": "markdown",
   "metadata": {
    "slideshow": {
     "slide_type": "slide"
    }
   },
   "source": [
    "# Parabolic PDEs: FTCS method\n",
    "\n",
    "* Stands for \"Forward Time, Centered Space\".\n",
    "* Consider the 1D heat equation:\n",
    "$$\\frac{\\partial T}{\\partial t} = \\kappa\\frac{\\partial^2 T}{\\partial x^2},$$\n",
    "* B.Cs.:\n",
    "    $$T(x=0, t) = T_0, \\quad T(x=L, t) = T_L.$$\n",
    "* I.C.:\n",
    "    $$T(x, t=0) = T_0 +  (T_L - T_0)\\left(\\frac{f(x) - f(0)}{f(L) - f(0)}\\right)$$"
   ]
  },
  {
   "cell_type": "markdown",
   "metadata": {
    "slideshow": {
     "slide_type": "subslide"
    }
   },
   "source": [
    "**Step 1: Discretize in space**\n",
    "\n",
    "$\\displaystyle x_m = \\frac{m}{M}L = am, \\quad m=0\\dots{}M, \\quad a = L/M$,\n",
    "\n",
    "$T_m(t) = \\left[T_0(t), \\dots{}, T_{M}(t)\\right]$\n",
    "\n",
    "$\\displaystyle \\left.\\frac{\\partial^2 T}{\\partial x^2}\\right|_{x=x_m, t} \\approx \\frac{T_{m+1} - 2 T_m + T_{m-1}}{a^2}\\quad$ (\"centered space\", CS)"
   ]
  },
  {
   "cell_type": "markdown",
   "metadata": {
    "slideshow": {
     "slide_type": "subslide"
    }
   },
   "source": [
    "**Step 2: Discretize in time**\n",
    "\n",
    "$\\displaystyle \\frac{d T_m}{d t} \\approx \\kappa\\frac{T_{m+1} - 2 T_m + T_{m-1}}{a^2},\\quad m = 1 \\dots{}, M-1$\n",
    "\n",
    "Let $t_n = nh$, $h$ the time step.\n",
    "\n",
    "Let $T_m(t_n) \\equiv T_m^n$.\n",
    "\n",
    "$\\displaystyle \\Rightarrow \\left.\\frac{\\partial T}{\\partial t}\\right|_{x=ma, t=nh} \\approx \\frac{T_{m}^{n+1} - T_m^n}{h} \\equiv \\kappa\\frac{T_{m+1}^n - 2 T_m^n + T_{m-1}^n}{a^2}$ (\"Forward (Euler) Time\", FT).\n",
    "\n",
    "$\\Rightarrow$ **Explicit FTCS method:**\n",
    "$$\\boxed{T_m^{n+1} = T_m^n + \\frac{\\kappa h}{a^2}\\left(T_{m+1}^n - 2 T_m^n + T_{m-1}^n\\right)}.$$"
   ]
  },
  {
   "cell_type": "markdown",
   "metadata": {
    "slideshow": {
     "slide_type": "slide"
    }
   },
   "source": [
    "# Intro to stability analysis"
   ]
  },
  {
   "cell_type": "markdown",
   "metadata": {
    "slideshow": {
     "slide_type": "subslide"
    }
   },
   "source": [
    "## Von Neumann Stability Analysis\n",
    "\n",
    "* How can we determine stability in PDEs?\n",
    "* A simple way is to consider a single spatial Fourier mode.\n",
    "* $T_m^n$ as an inverse DFT:\n",
    "    $$T_m^n = \\sum_k \\hat T_k^n \\exp(ikx_m)$$\n",
    "* If $T_m^n = \\hat T_k^n \\exp(ikx_m) = \\hat T_k^n\\exp(iakm)$ (one Fourier mode in $x$), and\n",
    "    $$T_m^{n+1} = T_m^n + \\frac{\\kappa h}{a^2}\\left(T_{m+1}^n - 2 T_m^n + T_{m-1}^n\\right)$$\n",
    "    becomes\n",
    "    $$\\hat T_k^{n+1}\\text e^{iakm} = \\left(1 - \\frac{2\\kappa h }{a^2}\\right) \\hat T_k^n\\text e^{iamk} + \\frac{\\kappa h}{a^2}\\left(\\hat T_{k}^n\\text e^{ia(m+1)k} - \\hat T_k^n \\text e^{ia(m-1)k}\\right)$$\n",
    "    $$\\Rightarrow \\left|\\frac{\\hat T_k^{n+1}}{\\hat T_k^n}\\right| = 1 + \\frac{\\kappa h}{a^2}\\left(\\text e^{ika} + \\text e^{-ika} - 2\\right) = \\left|1 - \\frac{4h\\kappa}{a^2}\\sin^2\\left(\\frac{ka}{2}\\right)\\right|.$$\n",
    "* This is the growth factor, and it should be less than unity, i.e.:\n",
    "$$\\boxed{h \\leq \\frac{a^2}{2\\kappa}}. \\qquad\\textit{(independent of $k$!)}$$"
   ]
  },
  {
   "cell_type": "markdown",
   "metadata": {
    "slideshow": {
     "slide_type": "subslide"
    }
   },
   "source": [
    "## FTCS for the wave equation\n",
    "\n",
    "* Reminder: wave equation is hyperbolic,\n",
    "$$\\frac{\\partial^2 \\phi}{\\partial t^2} = c^2\\frac{\\partial^2 \\phi}{\\partial x^2},$$\n",
    "and is subject to suitable boundary and initial conditions.\n",
    "* Spatially: $\\displaystyle \\frac{\\partial^2 \\phi_m}{\\partial t^2} \\approx \\frac{c^2}{a^2}\\left(\\phi_{m+1}  -2\\phi_m + \\phi_{m-1}\\right), \\quad m = 1, \\dots{}, M-1$.\n",
    "* Now transform to pairs of 1st-order ODEs:\n",
    "$$\\frac{d\\phi_m}{dt} = \\psi_m, \\quad \\text{and}\\quad \\frac{d\\psi_m}{dt} = \\frac{c^2}{a^2}\\left(\\phi_{m+1} - 2\\phi_m + \\phi_{m-1}\\right)$$\n",
    "and discretize using forward Euler ($2M$ ODEs)."
   ]
  },
  {
   "cell_type": "markdown",
   "metadata": {
    "slideshow": {
     "slide_type": "subslide"
    }
   },
   "source": [
    "$$\\frac{d\\phi_m}{dt} = \\psi_m, \\quad \\text{and}\\quad \\frac{d\\psi_m}{dt} = \\frac{c^2}{a^2}\\left(\\phi_{m+1} - 2\\phi_m + \\phi_{m-1}\\right)$$\n",
    "\n",
    "Using forward Euler for each:\n",
    "\n",
    "$$\\phi_m^{n+1} = \\phi_m^{n} + h\\psi_m^{n},$$\n",
    "$$\\psi_m^{n+1} = \\psi_m^{n} + h\\frac{c^2}{a^2}\\left(\\phi_{m-1}^{n} + \\phi_{m+1}^{n} - 2\\phi_m^{n}\\right).$$\n",
    "or, equivalently:\n",
    "$$\n",
    "\\begin{bmatrix}\n",
    "    \\phi_m^{n+1} \\\\\n",
    "    \\psi_m^{n+1}\n",
    "\\end{bmatrix}\n",
    "= \n",
    "\\begin{bmatrix}\n",
    "    1 & h \\\\\n",
    "    -\\frac{2hc^2}{a^2} & 1\n",
    "\\end{bmatrix}\n",
    "\\begin{bmatrix}\n",
    "    \\phi_m^{n} \\\\\n",
    "    \\psi_m^{n}\n",
    "\\end{bmatrix}\n",
    "+\n",
    "\\begin{bmatrix}\n",
    "    0 \\\\\n",
    "    \\frac{c^2 h}{a^2}\\left(\\phi_{m+1}^n + \\phi_{m-1}^n\\right)\n",
    "\\end{bmatrix}\n",
    "$$"
   ]
  },
  {
   "cell_type": "markdown",
   "metadata": {
    "slideshow": {
     "slide_type": "subslide"
    }
   },
   "source": [
    "Recall $$\n",
    "\\begin{bmatrix}\n",
    "    \\phi_m^{n+1} \\\\\n",
    "    \\psi_m^{n+1}\n",
    "\\end{bmatrix}\n",
    "= \n",
    "\\begin{bmatrix}\n",
    "    1 & h \\\\\n",
    "    -\\frac{2hc^2}{a^2} & 1\n",
    "\\end{bmatrix}\n",
    "\\begin{bmatrix}\n",
    "    \\phi_m^{n} \\\\\n",
    "    \\psi_m^{n}\n",
    "\\end{bmatrix}\n",
    "+\n",
    "\\begin{bmatrix}\n",
    "    0 \\\\\n",
    "    \\frac{c^2 h}{a^2}\\left(\\phi_{m+1}^n + \\phi_{m-1}^n\\right)\n",
    "\\end{bmatrix}\n",
    "$$\n",
    "\n",
    "Consider a single Fourier mode:\n",
    "$$\n",
    "\\begin{bmatrix}\n",
    "    \\hat\\phi_k^{m} \\\\\n",
    "    \\hat\\psi_k^{m}\n",
    "\\end{bmatrix}\\exp(ikma)\n",
    "$$\n",
    "and we obtain\n",
    "$$\n",
    "\\begin{bmatrix}\n",
    "    \\hat\\phi_k^{m+1} \\\\\n",
    "    \\hat\\psi_k^{m+1}\n",
    "\\end{bmatrix}\n",
    "=\n",
    "\\mathbf A \\begin{bmatrix}\n",
    "    \\hat\\phi_k^{m} \\\\\n",
    "    \\hat\\psi_k^{m}\n",
    "\\end{bmatrix}\\exp(ikma),$$\n",
    "$$\n",
    "\\text{with}\\quad \\mathbf A = \n",
    "\\begin{bmatrix}\n",
    "    1 & h \\\\\n",
    "    -hr^2 & 1\n",
    "\\end{bmatrix}\\quad \\text{and}\\quad\n",
    "r^2 = \\frac{2c}{a}\\sin\\frac{ka}{2},\n",
    "$$\n",
    "which **does** depend on $k$."
   ]
  },
  {
   "cell_type": "markdown",
   "metadata": {
    "slideshow": {
     "slide_type": "subslide"
    }
   },
   "source": [
    "$$\n",
    "\\begin{bmatrix}\n",
    "    \\hat\\phi_k^{m+1} \\\\\n",
    "    \\hat\\psi_k^{m+1}\n",
    "\\end{bmatrix}\n",
    "=\n",
    "\\mathbf A \\begin{bmatrix}\n",
    "    \\hat\\phi_k^{m} \\\\\n",
    "    \\hat\\psi_k^{m}\n",
    "\\end{bmatrix}\\exp(ikma),$$\n",
    "$$\\text{with}\\quad \\mathbf A = \n",
    "\\begin{bmatrix}\n",
    "    1 & h \\\\\n",
    "    -hr^2 & 1\n",
    "\\end{bmatrix}\\quad \\text{and}\\quad\n",
    "r = \\frac{2c}{a}\\sin\\frac{ka}{2}.\n",
    "$$\n",
    "\n",
    "* Eigenvalues of $\\mathbf A$ are $\\lambda_\\pm = 1\\pm ihr$ and $|\\lambda_\\pm|^2 = 1 + h^2 r^2 \\geq 1$,\n",
    "* corresponding eigenvectors $\\mathbf V_\\pm$.\n",
    "* Suppose initial condition is $\\alpha_+\\mathbf V_+ + \\alpha_- \\mathbf V_-$.\n",
    "* After $p$ time steps, this becomes $\\alpha_+\\lambda_+^p \\mathbf V_+ + \\alpha_- \\lambda_-^p \\mathbf V_-$, which will grow without bounds!\n",
    "\n",
    "**$\\Rightarrow$ FTCS always unstable for the wave equation!**"
   ]
  },
  {
   "cell_type": "markdown",
   "metadata": {
    "slideshow": {
     "slide_type": "slide"
    }
   },
   "source": [
    "# The implicit method\n",
    "\n",
    "* We have other choices on how to discretize in time the set of ODEs\n",
    "$$\\frac{d\\phi_m}{dt} = \\psi_m, \\quad \\text{and}\\quad \\frac{d\\psi_m}{dt} = \\frac{c^2}{a^2}\\left(\\phi_{m+1} - 2\\phi_m + \\phi_{m-1}\\right)$$\n",
    "* What if we evaluated the RHS at time $t+h$ instead of $t$?"
   ]
  },
  {
   "cell_type": "markdown",
   "metadata": {
    "slideshow": {
     "slide_type": "subslide"
    }
   },
   "source": [
    "* Explicit method:\n",
    "$$\n",
    "\\begin{bmatrix}\n",
    "    \\phi_m^{n+1} \\\\\n",
    "    \\psi_m^{n+1}\n",
    "\\end{bmatrix}\n",
    "= \n",
    "\\begin{bmatrix}\n",
    "    1 & +h \\\\\n",
    "    -\\frac{2hc^2}{a^2} & 1\n",
    "\\end{bmatrix}\n",
    "\\begin{bmatrix}\n",
    "    \\phi_m^{n} \\\\\n",
    "    \\psi_m^{n}\n",
    "\\end{bmatrix}\n",
    "+\n",
    "\\begin{bmatrix}\n",
    "    0 \\\\\n",
    "    \\frac{c^2 h}{a^2}\\left(\\phi_{m+1}^n + \\phi_{m-1}^n\\right)\n",
    "\\end{bmatrix}\n",
    "$$\n",
    "\n",
    "* Implicit method: First , $h\\to -h$\n",
    "$$\\phi_m^{n-1} = \\phi_m^{n} - h\\psi_m^{n},$$\n",
    "$$\\psi_m^{n-1} = \\psi_m^{n} - h\\frac{c^2}{a^2}\\left(\\phi_{m-1}^{n} + \\phi_{m+1}^{n} - 2\\phi_m^{n}\\right),$$\n",
    "\n",
    "    Then, $n \\to n+1$ (one shift forward in time):\n",
    "$$\\phi_m^{n} = \\phi_m^{n+1} - h\\psi_m^{n+1},$$\n",
    "$$\\psi_m^{n} = \\psi_m^{n+1} - h\\frac{c^2}{a^2}\\left(\\phi_{m-1}^{n+1} + \\phi_{m+1}^{n+1} - 2\\phi_m^{n+1}\\right),$$\n",
    "    or \n",
    "$$\n",
    "\\begin{bmatrix}\n",
    "    \\phi_m^n \\\\\n",
    "    \\psi_m^n\n",
    "\\end{bmatrix}\n",
    "= \n",
    "\\begin{bmatrix}\n",
    "    1 & -h \\\\\n",
    "    +\\frac{2hc^2}{a^2} & 1\n",
    "\\end{bmatrix}\n",
    "\\begin{bmatrix}\n",
    "    \\phi_m^{n+1} \\\\\n",
    "    \\psi_m^{n+1}\n",
    "\\end{bmatrix}\n",
    "-\n",
    "\\begin{bmatrix}\n",
    "    0 \\\\\n",
    "    \\frac{c^2 h}{a^2}\\left(\\phi_{m+1}^{n+1} + \\phi_{m-1}^{n+1}\\right)\n",
    "\\end{bmatrix}\n",
    "$$"
   ]
  },
  {
   "cell_type": "markdown",
   "metadata": {
    "slideshow": {
     "slide_type": "subslide"
    }
   },
   "source": [
    "* Why would we compute $n$ is we know $n+1$?\n",
    "* Because the RHS is a matrix expression that we can invert to get the LHS."
   ]
  },
  {
   "cell_type": "markdown",
   "metadata": {
    "slideshow": {
     "slide_type": "subslide"
    }
   },
   "source": [
    "## Stability\n",
    "\n",
    "$$\\text{Recall}\\quad \n",
    "\\begin{bmatrix}\n",
    "    \\phi_m^n \\\\\n",
    "    \\psi_m^n\n",
    "\\end{bmatrix}\n",
    "= \n",
    "\\begin{bmatrix}\n",
    "    1 & -h \\\\\n",
    "    +\\frac{2hc^2}{a^2} & 1\n",
    "\\end{bmatrix}\n",
    "\\begin{bmatrix}\n",
    "    \\phi_m^{n+1} \\\\\n",
    "    \\psi_m^{n+1}\n",
    "\\end{bmatrix}\n",
    "-\n",
    "\\begin{bmatrix}\n",
    "    0 \\\\\n",
    "    \\frac{c^2 h}{a^2}\\left(\\phi_{m+1}^{n+1} + \\phi_{m-1}^{n+1}\\right)\n",
    "\\end{bmatrix}\n",
    "$$"
   ]
  },
  {
   "cell_type": "markdown",
   "metadata": {
    "slideshow": {
     "slide_type": "fragment"
    }
   },
   "source": [
    "If we do the Von Neumann substitution, $\\hat \\phi_k^n\\exp(ikma)$ and $\\hat \\psi_k^n\\exp(ikma)$, we get\n",
    "$$\n",
    "\\mathbf B\n",
    "\\begin{bmatrix}\n",
    "    \\hat\\phi_k^{m+1} \\\\\n",
    "    \\hat\\psi_k^{m+1}\n",
    "\\end{bmatrix}\n",
    "=\n",
    "\\begin{bmatrix}\n",
    "    \\hat\\phi_k^{m} \\\\\n",
    "    \\hat\\psi_k^{m}\n",
    "\\end{bmatrix}\\exp(ikma),\n",
    "$$\n",
    "$$\\text{with}\\quad \\mathbf B = \n",
    "\\begin{bmatrix}\n",
    "    1 & -h \\\\\n",
    "    hr^2 & 1\n",
    "\\end{bmatrix}\\quad \\text{and}\\quad\n",
    "r = \\frac{2c}{a}\\sin\\frac{ka}{2},\n",
    "$$\n",
    "$$\n",
    "\\Rightarrow\n",
    "\\begin{bmatrix}\n",
    "    \\hat\\phi_k^{m+1} \\\\\n",
    "    \\hat\\psi_k^{m+1}\n",
    "\\end{bmatrix}\n",
    "=\n",
    "\\mathbf B^{-1}\n",
    "\\begin{bmatrix}\n",
    "    \\hat\\phi_k^{m} \\\\\n",
    "    \\hat\\psi_k^{m}\n",
    "\\end{bmatrix}\\exp(ikma).\n",
    "$$"
   ]
  },
  {
   "cell_type": "code",
   "execution_count": 9,
   "metadata": {
    "slideshow": {
     "slide_type": "subslide"
    }
   },
   "outputs": [
    {
     "data": {
      "image/png": "[encoded data removed]",
      "text/latex": [
       "$$\\left[\\begin{matrix}1 & - h\\\\h r^{2} & 1\\end{matrix}\\right]$$"
      ],
      "text/plain": [
       "⎡ 1    -h⎤\n",
       "⎢        ⎥\n",
       "⎢   2    ⎥\n",
       "⎣h⋅r   1 ⎦"
      ]
     },
     "execution_count": 9,
     "metadata": {},
     "output_type": "execute_result"
    }
   ],
   "source": [
    "from sympy import *\n",
    "init_printing()\n",
    "h, r = symbols('h, r', positive=True)\n",
    "B = Matrix([[1, -h], [h*r**2, 1]])\n",
    "B"
   ]
  },
  {
   "cell_type": "code",
   "execution_count": 2,
   "metadata": {
    "slideshow": {
     "slide_type": "fragment"
    }
   },
   "outputs": [
    {
     "data": {
      "image/png": "[encoded data removed]",
      "text/latex": [
       "$$\\left[\\begin{matrix}\\frac{1}{h^{2} r^{2} + 1} & \\frac{h}{h^{2} r^{2} + 1}\\\\- \\frac{h r^{2}}{h^{2} r^{2} + 1} & \\frac{1}{h^{2} r^{2} + 1}\\end{matrix}\\right]$$"
      ],
      "text/plain": [
       "⎡    1          h    ⎤\n",
       "⎢─────────  ─────────⎥\n",
       "⎢ 2  2       2  2    ⎥\n",
       "⎢h ⋅r  + 1  h ⋅r  + 1⎥\n",
       "⎢                    ⎥\n",
       "⎢      2             ⎥\n",
       "⎢  -h⋅r         1    ⎥\n",
       "⎢─────────  ─────────⎥\n",
       "⎢ 2  2       2  2    ⎥\n",
       "⎣h ⋅r  + 1  h ⋅r  + 1⎦"
      ]
     },
     "execution_count": 2,
     "metadata": {},
     "output_type": "execute_result"
    }
   ],
   "source": [
    "# inverse of B\n",
    "B**-1"
   ]
  },
  {
   "cell_type": "code",
   "execution_count": 3,
   "metadata": {
    "slideshow": {
     "slide_type": "fragment"
    }
   },
   "outputs": [],
   "source": [
    "# eigenvalues as a list\n",
    "L = list((B**-1).eigenvals().keys())"
   ]
  },
  {
   "cell_type": "code",
   "execution_count": 4,
   "metadata": {
    "slideshow": {
     "slide_type": "fragment"
    }
   },
   "outputs": [
    {
     "data": {
      "image/png": "[encoded data removed]",
      "text/latex": [
       "$$- \\frac{i h r - 1}{h^{2} r^{2} + 1}$$"
      ],
      "text/plain": [
       "-(ⅈ⋅h⋅r - 1) \n",
       "─────────────\n",
       "   2  2      \n",
       "  h ⋅r  + 1  "
      ]
     },
     "execution_count": 4,
     "metadata": {},
     "output_type": "execute_result"
    }
   ],
   "source": [
    "# First eigenvalue\n",
    "L[0].factor()"
   ]
  },
  {
   "cell_type": "code",
   "execution_count": 5,
   "metadata": {
    "slideshow": {
     "slide_type": "fragment"
    }
   },
   "outputs": [
    {
     "data": {
      "image/png": "[encoded data removed]",
      "text/latex": [
       "$$\\frac{1}{\\sqrt{h^{2} r^{2} + 1}}$$"
      ],
      "text/plain": [
       "      1       \n",
       "──────────────\n",
       "   ___________\n",
       "  ╱  2  2     \n",
       "╲╱  h ⋅r  + 1 "
      ]
     },
     "execution_count": 5,
     "metadata": {},
     "output_type": "execute_result"
    }
   ],
   "source": [
    "# 2nd eigenvalue\n",
    "abs(L[1].factor())"
   ]
  },
  {
   "cell_type": "markdown",
   "metadata": {
    "slideshow": {
     "slide_type": "subslide"
    }
   },
   "source": [
    "$$\n",
    "\\begin{bmatrix}\n",
    "    \\hat\\phi_k^{m+1} \\\\\n",
    "    \\hat\\psi_k^{m+1}\n",
    "\\end{bmatrix}\n",
    "=\n",
    "\\mathbf B^{-1}\n",
    "\\begin{bmatrix}\n",
    "    \\hat\\phi_k^{m} \\\\\n",
    "    \\hat\\psi_k^{m}\n",
    "\\end{bmatrix}\\exp(ikma).\n",
    "$$\n",
    "The eigenvalues of $\\mathbf B^{-1}$ are $$\\lambda_\\pm = \\frac{1\\pm ihr}{1+h^2r^2}, \\qquad |\\lambda_\\pm| = \\frac{1}{\\sqrt{1 + h^2r^2}} \\leq 1.$$\n",
    "\n",
    "* The eigenvalues are the growth factors and these are less than one.\n",
    "* So the implicit method is unconditionally stable.\n",
    "* But solutions decay exponentially! This is a big problem for the wave equation!"
   ]
  },
  {
   "cell_type": "markdown",
   "metadata": {
    "slideshow": {
     "slide_type": "slide"
    }
   },
   "source": [
    "# Crank-Nicholson\n",
    "\n",
    "Crank-Nicholson: average of explicit (fwd Euler) and implicit methods\n",
    "\n",
    "Euler:\n",
    "$$\\phi_m^{n+1} = \\phi_m^{n} + h\\psi_m^{n},$$\n",
    "$$\\psi_m^{n+1} = \\psi_m^{n} + h\\frac{c^2}{a^2}\\left(\\phi_{m-1}^{n} + \\phi_{m+1}^{n} - 2\\phi_m^{n}\\right).$$\n",
    "\n",
    "Implicit:\n",
    "$$\\phi_m^{n+1} - h\\psi_m^{n+1} = \\phi_m^n,$$\n",
    "$$\\psi_m^{n+1} - h\\frac{c^2}{a^2}\\left(\\phi_{m-1}^{n+1} + \\phi_{m+1}^{n+1} - 2\\phi_m^{n+1}\\right) = \\psi_m^{n},$$\n",
    "\n",
    "Crank-Nicholson (C-N):\n",
    "$$\\phi_m^{n+1} - \\frac{h}2\\psi_m^{n+1} = \\phi_m^{n} + \\frac{h}2\\psi_m^{n},$$\n",
    "$$\\psi_m^{n+1} - \\frac{h}2\\frac{c^2}{a^2}\\left(\\phi_{m-1}^{n+1} + \\phi_{m+1}^{n+1} - 2\\phi_m^{n+1}\\right)= \\psi_m^{n} + \\frac{h}2\\frac{c^2}{a^2}\\left(\\phi_{m-1}^{n} + \\phi_{m+1}^{n} - 2\\phi_m^{n}\\right).$$"
   ]
  },
  {
   "cell_type": "markdown",
   "metadata": {
    "slideshow": {
     "slide_type": "subslide"
    }
   },
   "source": [
    "If we do the Von Neumann substitution, $\\hat \\phi_k^n\\exp(ikma)$ and $\\hat \\psi_k^n\\exp(ikma)$, we get\n",
    "$$\\mathbf{B'}\n",
    "\\begin{bmatrix}\n",
    "    \\hat\\phi_m^{n+1} \\\\\n",
    "    \\hat\\psi_m^{n+1}\n",
    "\\end{bmatrix}\n",
    "=\n",
    "\\mathbf{A'}\n",
    "\\begin{bmatrix}\n",
    "    \\hat\\phi_m^{n} \\\\\n",
    "    \\hat\\psi_m^{n}\n",
    "\\end{bmatrix},\n",
    "$$\n",
    "or \n",
    "$$\n",
    "\\begin{bmatrix}\n",
    "    \\hat\\phi_m^{n+1} \\\\\n",
    "    \\hat\\psi_m^{n+1}\n",
    "\\end{bmatrix}\n",
    "=\n",
    "\\mathbf{B'^{-1}A'}\n",
    "\\begin{bmatrix}\n",
    "    \\hat\\phi_m^{n} \\\\\n",
    "    \\hat\\psi_m^{n},\n",
    "\\end{bmatrix}\n",
    "$$\n",
    "with\n",
    "$$\n",
    "\\mathbf{B'^{-1}A'}\n",
    "= \\frac{a}{1 + h^2 r'^2}\n",
    "\\begin{bmatrix}\n",
    "    1 - h^2 r'^2 & 2 h \\\\\n",
    "    -2hr'^2 & 1-h^2r'^2\n",
    "\\end{bmatrix},\n",
    "\\quad r' = \\frac{c}{a}\\sin\\frac{ka}{2}\n",
    "$$"
   ]
  },
  {
   "cell_type": "markdown",
   "metadata": {
    "slideshow": {
     "slide_type": "-"
    }
   },
   "source": [
    "Growth factors of Crank-Nicholson are eigenvalues of $\\mathbf{B^{-1}A}$:\n",
    "$$\\lambda_\\pm = \\frac{1 \\pm 2ihr' - h^2 r'^2}{1 + h^2 r'^2},\\quad \\boxed{|\\lambda_\\pm| = 1}.$$"
   ]
  },
  {
   "cell_type": "markdown",
   "metadata": {
    "slideshow": {
     "slide_type": "subslide"
    }
   },
   "source": [
    "* For Euler-Forward, the growth factors are greater than one and the solution diverges.\n",
    "* For Implicit, the growth factors are less than one and the solution decays to zero.\n",
    "* For CN, the growth factors are one so the solution neither grows nor decays.\n",
    "* It is also 2nd-order accurate in time, while both explicit and implicit methods are 1st-order accurate."
   ]
  },
  {
   "cell_type": "markdown",
   "metadata": {
    "slideshow": {
     "slide_type": "slide"
    }
   },
   "source": [
    "# Spectral methods"
   ]
  },
  {
   "cell_type": "markdown",
   "metadata": {
    "slideshow": {
     "slide_type": "subslide"
    }
   },
   "source": [
    "## General idea\n",
    "\n",
    "* Find yourself a set of orthogonal functions forming a basis of your function space\n",
    "    * sin if quantity is zero at boundaries or function is odd w.r.t. midline of domain,\n",
    "    * cos if quantity has zero derivatives at boundaries or function is even w.r.t. midline of domain,\n",
    "    * exp if quantity is periodic,\n",
    "    * Chebyshev polynomials for more flexible combinations of ,\n",
    "    * Legendre polynomials,\n",
    "    * ...\n",
    "* Project your initial conditions and forcing on that basis,\n",
    "* Iterate in time for linear PDEs,\n",
    "* Iterate in time, and do FFTs and iFFTs to compute the non-linear terms if PDEs are non-linear,"
   ]
  },
  {
   "cell_type": "markdown",
   "metadata": {
    "slideshow": {
     "slide_type": "subslide"
    }
   },
   "source": [
    "* We focus on sin/cos/exp bases, sometimes called \"Fourier spectral methods\" (*perhaps only by me though*),\n",
    "* Usually, all of these methods usually require computing FFTs (even for non-Fourier spectral methods),\n",
    "* FFTs: large cost of computing them, but a large return on investment usually:\n",
    "    * linear PDEs: all modes oscillate independently, without coupling $\\Rightarrow$ computing the FFTs of the initial conditions give you the solutions at all times,\n",
    "    * non-linear PDEs: elliptic PDEs can be solved without the need of an iterative solver like relaxation method\n",
    "       $$\\frac{\\partial^2 \\phi}{\\partial x^2} + \\frac{\\partial^2 \\phi}{\\partial y^2} = \\rho;$$\n",
    "       $$(\\phi, \\rho) = \\sum_i\\sum_j \\left(\\hat\\phi(k,l), \\hat\\rho(k,l)\\right)\\exp i(k_ix + l_jy), $$\n",
    "       $$\\text{Use orthogonality to project } \\Rightarrow \\hat\\phi(k_i, l_j) = -\\frac{\\hat\\rho(k_i, l_j)}{k_i^2 + l_j^2}$$\n",
    "      and you are just one iFFT away form getting the solution $\\Rightarrow$ no need to use an iterative solver!\n",
    "      This is particularly useful with large sets of coupled PDEs, for which just one elliptic PDE can be the main bottleneck of a non-spectral implementation.\n",
    "* Spectral methods are really difficult to implement in complicated geometries."
   ]
  },
  {
   "cell_type": "markdown",
   "metadata": {
    "slideshow": {
     "slide_type": "subslide"
    }
   },
   "source": [
    "# Practical implementation tricks\n",
    "\n",
    "Periodic B.Cs:\n",
    "$$f = \\sum_{k=-\\infty}^{infty} \\hat f_k \\exp(ikx) \\Rightarrow \\frac{\\partial f}{\\partial x} = \\sum_{k=-\\infty}^{infty} \\hat ik f_k \\exp(ikx),$$\n",
    "or, in shorthand,\n",
    "$$\\frac{\\partial f}{\\partial x} \\to ik\\hat f_k, \\quad \\frac{\\partial^2 f}{\\partial x^2} \\to -k^2\\hat f_k$$\n",
    "\n",
    "Next are a couple fo examples of how to implement it."
   ]
  },
  {
   "cell_type": "code",
   "execution_count": 7,
   "metadata": {
    "slideshow": {
     "slide_type": "subslide"
    }
   },
   "outputs": [
    {
     "data": {
      "image/png": "[encoded data removed]",
      "text/plain": [
       "<Figure size 432x288 with 2 Axes>"
      ]
     },
     "metadata": {
      "needs_background": "light"
     },
     "output_type": "display_data"
    }
   ],
   "source": [
    "# %load derivative_fft.py\n",
    "#calculate derivative of a function using fourier transform method\n",
    "#import required routines\n",
    "from numpy import arange, exp, pi\n",
    "from pylab import plot, legend, show,subplot,xlabel,ylabel,tight_layout\n",
    "from numpy.fft import rfft, irfft\n",
    "#define function and its derivative\n",
    "def f(x):\n",
    "    return exp(-(x-L/2)**2/Delta**2)\n",
    "def dfdx(x):\n",
    "    return exp(-(x-L/2)**2/Delta**2)*-2*(x-L/2)/Delta**2\n",
    "\n",
    "#define problem parameters\n",
    "L=2.0\n",
    "Delta=0.1\n",
    "nx=200\n",
    "\n",
    "#define x, f(x), f'(x)\n",
    "x=arange(0,L,L/nx)\n",
    "\n",
    "f = f(x)\n",
    "\n",
    "f_derivative = dfdx(x)\n",
    "\n",
    "#now do the same thing spectrally:\n",
    "#fourier transform\n",
    "fhat = rfft(f)\n",
    "#define k\n",
    "karray = arange(nx/2+1)*2*pi/L\n",
    "#define ik*fhat\n",
    "fhat_derivative = complex(0,1)*karray*fhat\n",
    "#and transform back\n",
    "f_derivative_fft = irfft(fhat_derivative)\n",
    "\n",
    "subplot(2,1,1)\n",
    "plot(x,f,x,f_derivative,x,f_derivative_fft)\n",
    "legend(('f','f derivative', 'f derivative fft'))\n",
    "xlabel('x')\n",
    "subplot(2,1,2)\n",
    "plot(x,abs(f_derivative-f_derivative_fft))\n",
    "xlabel('x')\n",
    "ylabel('abs(difference)')\n",
    "\n",
    "tight_layout()\n",
    "show()"
   ]
  },
  {
   "cell_type": "code",
   "execution_count": 10,
   "metadata": {
    "slideshow": {
     "slide_type": "subslide"
    }
   },
   "outputs": [
    {
     "name": "stdout",
     "output_type": "stream",
     "text": [
      "Original series: f = sin(x)-2sin(4x)+3sin(5x)-4sin(6x)\n",
      "Coefficient of sin(0x): 0.0\n",
      "Coefficient of sin(1x): 1.0\n",
      "Coefficient of sin(2x): 1.2569626307521337e-16\n",
      "Coefficient of sin(3x): -6.786313538289374e-16\n",
      "Coefficient of sin(4x): -1.9999999999999991\n",
      "Coefficient of sin(5x): 2.999999999999999\n",
      "Coefficient of sin(6x): -4.0\n",
      "See Figure for calculating second derivative\n"
     ]
    },
    {
     "data": {
      "image/png": "[encoded data removed]",
      "text/plain": [
       "<Figure size 432x288 with 2 Axes>"
      ]
     },
     "metadata": {
      "needs_background": "light"
     },
     "output_type": "display_data"
    }
   ],
   "source": [
    "# %load derivative_dst.py\n",
    "from pylab import plot, show, legend, subplot, xlabel, ylabel, tight_layout\n",
    "from numpy import zeros, empty, linspace, exp, arange, minimum, pi, sin, cos, array\n",
    "from dcst import dst, idst, dct, idct\n",
    "\n",
    "N = 256\n",
    "# x = pi*n/N\n",
    "x = arange(N)*pi/N\n",
    "#function is a sine series\n",
    "f = sin(x)-2*sin(4*x)+3*sin(5*x)-4*sin(6*x)\n",
    "#do fourier sine series\n",
    "fCoeffs = dst(f)\n",
    "print('Original series: f = sin(x)-2sin(4x)+3sin(5x)-4sin(6x)')\n",
    "for j in range(7):\n",
    "    print( 'Coefficient of sin(%ix):'%j, fCoeffs[j]/N)\n",
    "\n",
    "print('See Figure for calculating second derivative')\n",
    "#second derivative is also a sine series\n",
    "d2f_dx2_a = -sin(x)+32*sin(4*x)-75*sin(5*x)+144*sin(6*x)\n",
    "#second derivative using fourier transform\n",
    "DerivativeCoeffs = -arange(N)**2*fCoeffs\n",
    "d2f_dx2_b = idst(DerivativeCoeffs)\n",
    "subplot(2,1,1) \n",
    "plot(x,d2f_dx2_a, x, d2f_dx2_b,'+')\n",
    "xlabel('x')\n",
    "legend(('analytic','using DST'))\n",
    "subplot(2,1,2)\n",
    "plot(x,abs(d2f_dx2_a-d2f_dx2_b))\n",
    "xlabel('x')\n",
    "ylabel('abs(diff)')\n",
    "tight_layout()\n",
    "show()\n"
   ]
  },
  {
   "cell_type": "code",
   "execution_count": null,
   "metadata": {},
   "outputs": [],
   "source": []
  }
 ],
 "metadata": {
  "celltoolbar": "Slideshow",
  "kernelspec": {
   "display_name": "Python [conda env:anaconda]",
   "language": "python",
   "name": "conda-env-anaconda-py"
  },
  "language_info": {
   "codemirror_mode": {
    "name": "ipython",
    "version": 3
   },
   "file_extension": ".py",
   "mimetype": "text/x-python",
   "name": "python",
   "nbconvert_exporter": "python",
   "pygments_lexer": "ipython3",
   "version": "3.5.6"
  }
 },
 "nbformat": 4,
 "nbformat_minor": 2
}
