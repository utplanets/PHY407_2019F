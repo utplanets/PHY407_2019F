{
 "cells": [
  {
   "cell_type": "markdown",
   "metadata": {
    "slideshow": {
     "slide_type": "skip"
    }
   },
   "source": [
    "**Author: Nico Grisouard, nicolas.grisouard@physics.utoronto.ca**\n",
    "\n",
    "*Supporting textbook chapters for week 7: Chapters 8.4, 8.2, 8.5.5, 8.6*"
   ]
  },
  {
   "cell_type": "markdown",
   "metadata": {
    "slideshow": {
     "slide_type": "slide"
    }
   },
   "source": [
    "Lecture 7, topics:\n",
    "* Adaptive step size for RK schemes,\n",
    "* Bulirsch-Stoer method,\n",
    "* Boundary value problems,\n",
    "* Stability issues."
   ]
  },
  {
   "cell_type": "markdown",
   "metadata": {
    "slideshow": {
     "slide_type": "slide"
    }
   },
   "source": [
    "Last week: ODE(s) with some initial condition(s):\n",
    "* 1D: $\\quad\\displaystyle \\frac{dx}{dt} = f(x, t)\\quad \\text{with}\\quad x(t=0)=x_0.$\n",
    "* $n$D: $\\quad\\displaystyle \\frac{dx_i}{dt} = f_i(x_1,\\dots{},x_n, t)\\quad \\text{with}\\quad x_i(t=0)=x_{i0}.$\n",
    "* higher order, e.g.: \n",
    "$$\\frac{d^3 x}{dt^3} =f(x, t)\\quad \\Leftrightarrow \\quad \\frac{d x}{dt} = v,\\ \\frac{dv}{dt} = a,\\ \\frac{d a}{dt }=f.$$"
   ]
  },
  {
   "cell_type": "markdown",
   "metadata": {
    "slideshow": {
     "slide_type": "subslide"
    }
   },
   "source": [
    "# Runge-Kutta methods"
   ]
  },
  {
   "cell_type": "markdown",
   "metadata": {
    "slideshow": {
     "slide_type": "subslide"
    }
   },
   "source": [
    "## 2nd-order Runge-Kutta (RK2) method\n",
    "\n",
    "![Newman's Fig. 8.2](fig8-2.png)"
   ]
  },
  {
   "cell_type": "markdown",
   "metadata": {
    "slideshow": {
     "slide_type": "subslide"
    }
   },
   "source": [
    "**RK2:**\n",
    "* $\\oplus$ Easily extended to RK4\n",
    "* $\\oplus$ Possible to use adaptive time step (this week)\n",
    "* $\\ominus$ time-reversible\n",
    "* $\\ominus$ accuracy\n",
    "\n",
    "**RK4:**\n",
    "* $\\oplus$ accuracy\n",
    "* $\\oplus$ Possible to use adaptive time step (this week)\n",
    "* $\\ominus$ time-reversible\n",
    "\n",
    "**Leapfrog:**\n",
    "* $\\oplus$ time-reversible\n",
    "* $\\oplus$ basis for higher-order methods (Bulirsch-Stoer, this week)\n",
    "* $\\ominus$ accuracy\n",
    "* $\\ominus$ time step has to be constant (not exactly true, as we will see)."
   ]
  },
  {
   "cell_type": "markdown",
   "metadata": {
    "slideshow": {
     "slide_type": "slide"
    }
   },
   "source": [
    "# Adaptive 4th-order Runge-Kutta method (RK4)"
   ]
  },
  {
   "cell_type": "markdown",
   "metadata": {
    "slideshow": {
     "slide_type": "subslide"
    }
   },
   "source": [
    "## Error of RK4\n",
    "\n",
    "* End result:\n",
    "    * $k_1 = hf(x, t)$,\n",
    "    * $k_2 = hf\\left(x + \\frac{k_1}{2}, t+\\frac{h}2\\right)$,\n",
    "    * $k_3 = hf\\left(x + \\frac{k_2}{2}, t+\\frac{h}2\\right)$,\n",
    "    * $k_4 = hf\\left(x + k_3, t + h \\right)$,\n",
    "    * $x(t+h) = x(t) + \\frac{1}{6}(k_1 + 2 k_2 + 2k_3 + k_4)$.\n",
    "\n",
    "* Very accurate method: error is $\\epsilon = c\\times h^5$ at each time step $h$, $c$ constant."
   ]
  },
  {
   "cell_type": "markdown",
   "metadata": {
    "slideshow": {
     "slide_type": "subslide"
    }
   },
   "source": [
    "* Very accurate method: error is $\\epsilon = c\\times h^5$ at each time step $h$, $c$ constant.\n",
    "* Error after 2 time steps? $\\approx 2ch^5$.\n",
    "* Error after 1 time step of $2h$? $c(2h)^5 = 32 ch^5 \\gg 2 ch^5$\n",
    "* The difference is $(32-2)ch^5=30 ch^5$.\n",
    "* To estimate error: run ODE solver once with $h$ (to get $x_1$), once with $2h$ (to get $x_2$), divide difference by 30.\n",
    "$$\\epsilon = ch^5 = \\frac{1}{30}(x_1 - x_2).$$\n",
    "![Newman fig. 8.7](fig8-7.png)"
   ]
  },
  {
   "cell_type": "markdown",
   "metadata": {
    "slideshow": {
     "slide_type": "subslide"
    }
   },
   "source": [
    "## Adaptive time stepping\n",
    "\n",
    "* Suppose target error is $\\delta$ *per unit time*. If\n",
    "$$\\rho = \\frac{h\\delta}{\\epsilon} = \\frac{30h\\delta}{|x_1 - x_2|} = \\frac{30 \\delta}{ch^4} > 1,$$\n",
    "$h$ is too small and can be adjusted to $h' = h\\rho^{1/4}$ to get $\\rho'=1$, i.e., without missing target accuracy.\n",
    "    * This saves calculation time.\n",
    "* If $\\rho < 1$, the time step is too large and needs to be adjusted down by the same factor.\n",
    "    * We also need to repeat our calculation to get the desired accuracy.\n",
    "    * This will guarantee meeting error target.\n",
    "* We test if we need to adjust by performing the calculation twice (we retrieve $x_1$ and $x_2$), testing if we met the target, and adjusting $h$.\n",
    "* Overall, despite extra work (up to 3 RK4 steps per time step), program often faster because resolution focused where it's needed."
   ]
  },
  {
   "cell_type": "markdown",
   "metadata": {
    "slideshow": {
     "slide_type": "subslide"
    }
   },
   "source": [
    "![Newman 8.6](fig8-6.png)"
   ]
  },
  {
   "cell_type": "markdown",
   "metadata": {
    "slideshow": {
     "slide_type": "slide"
    }
   },
   "source": [
    "# From Leapfrog to Bulirsch-Stoer"
   ]
  },
  {
   "cell_type": "markdown",
   "metadata": {
    "slideshow": {
     "slide_type": "subslide"
    }
   },
   "source": [
    "## Leapfrog error\n",
    "\n",
    "![Newman's fig. 8.9, focus on leapfrog](Leapfrog.png)\n",
    "\n",
    "* Leapfrog is timestep-reversible.\n",
    "* $\\Rightarrow$ error $\\epsilon$ is an **odd** function of $h$:\n",
    "$$\\epsilon(-h) = -\\epsilon(h)$$\n",
    "$\\Rightarrow$ Taylor expansion is made of **odd** powers of $h$.\n",
    "* $\\Rightarrow$ cumulative error is **even** in $h$,\n",
    "* Each improvement we apply $\\Rightarrow$ we can get two orders of accuracy, if we play it right."
   ]
  },
  {
   "cell_type": "markdown",
   "metadata": {
    "slideshow": {
     "slide_type": "subslide"
    }
   },
   "source": [
    "## Modified mid-point (MMP) method\n",
    "\n",
    "* Integration from $t$ to $t+H$, with $n+1$ time steps:\n",
    "\\begin{align*}\n",
    "x_0 & = x(t) \\\\\n",
    "x_{1/2} & = x_0 + hf(x_0, t)/2\\quad \\text{(Initial Euler 1/2-step $\\Rightarrow$ lots of even powers in $\\epsilon$!)}\\\\\n",
    "x_1 & = x_0 + hf(x_{1/2}, t + h/2) \\\\\n",
    "x_{3/2} & = x_{1/2} + hf(x_1, t+h) \\\\\n",
    "        & \\dots\n",
    "\\end{align*}\n",
    "* ... and keep going until you reach the end."
   ]
  },
  {
   "cell_type": "markdown",
   "metadata": {
    "slideshow": {
     "slide_type": "subslide"
    }
   },
   "source": [
    "* Then, do **both** the whole integer **and** the backward Euler.\n",
    "\\begin{align*}\n",
    "x_{n-1/2} & = x_{n-3/2} + hf(x_{n-1}, t + H - h),\\\\\n",
    "x_{n} & = x_{n-1} + hf(x_{n-1/2}, t+H-h/2)\\approx x(t+H) \\\\\n",
    "x_n ' & = x_{n-1/2} + hf(x_n, t+H)\\qquad \\text{(But do this adjustment...)} \\\\\n",
    "x(t+H)_{final} & = \\frac{x_n + x_n'}2\\qquad \\text{(... and you have canceled the even powers (MMP))}.\n",
    "\\end{align*}\n",
    "\n",
    "This is not a trivial result (cf. Gragg 1965 for proof)."
   ]
  },
  {
   "cell_type": "markdown",
   "metadata": {
    "slideshow": {
     "slide_type": "subslide"
    }
   },
   "source": [
    "## Bulirsch-Stoer method\n",
    "\n",
    "* MMP method rarely used by itself, but is the basis for the powerful Bulirsch-Stoer method.\n",
    "* Method:\n",
    "    * Take 1 single MMP step of size $h_1 = H$ to get estimate of $$x(t+H) = R_{1, 1}.$$ ($R$ stands for \"Richardson extrapolation\")\n",
    "    * Now take 2 MMP steps of size $h_2 = H/2$ to get second estimate of $$x(t+H) = R_{2,1}.$$\n",
    "    * Since we know the MMP has 2nd order and even total error, we can write both of these estimates as\n",
    "\\begin{align*}\n",
    "x(t+H) & = R_{1,1} + c_1 h_1^2 + O(h_1^4)\\quad \\text{and}\\\\\n",
    "x(t+H) & = R_{2,1} + c_1 h_2^2 + O(h_2^4).\n",
    "\\end{align*}"
   ]
  },
  {
   "cell_type": "markdown",
   "metadata": {
    "slideshow": {
     "slide_type": "subslide"
    }
   },
   "source": [
    "Recall\n",
    "\\begin{align*}\n",
    "x(t+H) & = R_{1,1} + c_1 h_1^2 + O(h_1^4)\\quad \\text{and}\\\\\n",
    "x(t+H) & = R_{2,1} + c_1 h_2^2 + O(h_2^4).\n",
    "\\end{align*}\n",
    "* Using the relationship between the step sizes: $h_1 = 2 h_2$, we can equate these expressions to get\n",
    "$$R_{1,1} + 4 c_1 h_2^2 + O(h_2^4) = R_{2,1} + c_1 h_2^2 + O(h_2^4)$$\n",
    "$$\\Rightarrow\\ c_1 h_2^2 = \\frac{1}{3}(R_{2,1} - R_{1,1}) + O(h_2^4).$$\n",
    "* If we plug this back in to the expression for $x(t+H)$ above we get a new estimate called $R_{2,2}$:\n",
    "$$x(t+H) \\approx R_{2,2} = R_{2,1} + \\frac{1}{3}(R_{2,1} - R_{1,1}) + \\underbrace{O(h^4_2)}.$$"
   ]
  },
  {
   "cell_type": "markdown",
   "metadata": {
    "slideshow": {
     "slide_type": "subslide"
    }
   },
   "source": [
    "$$x(t+H) \\approx R_{2,2} = R_{2,1} + \\frac{1}{3}(R_{2,1} - R_{1,1}) + \\underbrace{O(h^4_2)}.$$\n",
    "* 2 different grid spacings ($H$ and $H/2$) $\\to$ expression for the leading error term $\\to$ replace it with our estimates for these grid spacings, i.e., $R_{1,1}$ and $R_{2,2}$.\n",
    "* We have reduced the error in our estimate by 2 orders! *(which was possible because the errors were even)*\n",
    "\n",
    "\n",
    "**Why stop there?**\n",
    "\n",
    "* Take another grid spacing, to estimate the **new** leading order error term and then replace for that.\n",
    "* E.g., with $h_3=H/3$, $$x(t+H) = R_{3,1} + c_1 h_3^2 + O(h_3^4).$$"
   ]
  },
  {
   "cell_type": "markdown",
   "metadata": {
    "slideshow": {
     "slide_type": "subslide"
    }
   },
   "source": [
    "* E.g., with $h_3=H/3$, \n",
    "\\begin{align*}\n",
    "x(t+H) & = R_{3,1} + c_1 h_3^2 + O(h_3^4),\\\\\n",
    "       & = R_{2,1} + c_1\\left(\\frac32 h_3\\right)^2 + O(h_3^4),\\\\\n",
    "\\Rightarrow\\ & R_{3,1} + c_1 h_3^2 + O(h_3^4) = R_{2,1} + c_1\\frac94 h_3^2 + O(h_3^4)\\\\\n",
    "\\Rightarrow\\ & c_1 h_3^2 = \\frac45 (R_{3,1} - R_{2,1}) + O(h_3^4)\n",
    "\\end{align*}\n",
    "* Now plugging this into our expression for $x(t+H)$ and calling it $R_{3,2}$,\n",
    "$$x(t+H) \\approx R_{3,2} + c_2 h_3^4 +  \\underbrace{O(h_3^6)},$$\n",
    "$$\\text{where}\\ R_{3,2} = R_{3,1} + \\frac45 (R_{3,1} - R_{2,1}), $$\n",
    "and where $c_2$ is a new constant that we need to find an expression for..."
   ]
  },
  {
   "cell_type": "markdown",
   "metadata": {
    "slideshow": {
     "slide_type": "subslide"
    }
   },
   "source": [
    "* Equating $R_{3,2}$ and $R_{2,2}$ allows to find $c_2$:\n",
    "\\begin{align*}\n",
    "    x(t+H) & \\approx R_{2,2} + c_2 h^4_2 + \\underbrace{O(h^6_2)} \\\\\n",
    "           & \\approx R_{3,2} + c_2 h_3^4 + \\underbrace{O(h_3^6)}\\\\\n",
    "h_3 = 2 h_2/3 & \\Rightarrow c_2 h_3^4 = \\frac{16}{65}(R_{3,2} - R_{2,2})\n",
    "\\end{align*}\n",
    "\n",
    "* Plugging this back in and calling the new result $R_{3,3}$ yields\n",
    "$$x(t+H) \\approx R_{3,3} + O(h_3^6),$$\n",
    "$$\\text{where}\\ R_{3,3} = R_{3,2} + \\frac{16}{65}(R_{3,2} - R_{2,2}),$$\n",
    "\n",
    "* and so on."
   ]
  },
  {
   "cell_type": "markdown",
   "metadata": {
    "slideshow": {
     "slide_type": "subslide"
    }
   },
   "source": [
    "* The power in this method is that you keep cancelling 2 powers in the error for every new grid spacing you consider.\n",
    "* Typically, you continue the refinement until you reach the error tolerance you want.\n",
    "* Summary of method:\n",
    "    * Take $h=H$, set $n=1$ and use MMP to find $x(t+H)$,\n",
    "    * Continue to refine grid to find new estimates and error estimates.\n",
    "    * When error is acceptable, stop.\n",
    "\n",
    "* The iteration can be expressed:\n",
    "$$ x(t+H) = R_{n, m+1} + O(h_n^{2m+2}),\\qquad\\text{where}$$\n",
    "$$ R_{n, m+1} = R_{n,m} + \\frac{R_{n,m} - R_{n-1, m}}{[n/(n-1)]^{2m} - 1}\\quad \\text{and}\\quad h_n = \\left(\\frac{n-1}{n}\\right)h_{n-1}. $$"
   ]
  },
  {
   "cell_type": "markdown",
   "metadata": {
    "slideshow": {
     "slide_type": "subslide"
    }
   },
   "source": [
    "Let's look at `bulirsch.py` from Newman's book.\n",
    "\n",
    "Equations solved: nonlinear pendulum,\n",
    "$$\\frac{d\\theta}{dt} = \\omega, \\qquad \\frac{d\\omega}{dt} = -\\frac{g}{\\ell}\\sin\\theta.$$\n",
    "\n",
    "Extrapolation table:\n",
    "\\begin{align*}\n",
    "n = 1:\\ & R_{1,1}\\hspace{-100pt} & & & & & & \\\\\n",
    "       & & \\searrow & & & & & \\\\\n",
    "n = 2:\\ & R_{2,1}\\hspace{-100pt} & \\to & R_{2,2}\\hspace{-100pt} & & & & \\\\\n",
    "       & & \\searrow & & \\searrow & & & \\\\\n",
    "n = 3:\\ & R_{3,1}\\hspace{-100pt} & \\to & R_{3,2}\\hspace{-100pt} & \\to & R_{3,3}\\hspace{-100pt} & & \\\\\n",
    "       & & \\searrow & & \\searrow & & \\searrow & \\\\\n",
    "n = 4:\\ & \\underbrace{R_{4,1}}_{MMP}\\hspace{-100pt} & \\to & R_{4,2}\\hspace{-100pt} & \\to & R_{4,3}\\hspace{-100pt} & \\to & R_{4,4}\\hspace{-100pt}\n",
    "\\end{align*}"
   ]
  },
  {
   "cell_type": "code",
   "execution_count": 5,
   "metadata": {
    "slideshow": {
     "slide_type": "subslide"
    }
   },
   "outputs": [
    {
     "data": {
      "image/png": "[encoded data removed]",
      "text/plain": [
       "<Figure size 432x288 with 1 Axes>"
      ]
     },
     "metadata": {
      "needs_background": "light"
     },
     "output_type": "display_data"
    }
   ],
   "source": [
    "# load bulirsch.py from Newman \n",
    "from math import sin, pi\n",
    "\n",
    "from numpy import empty, array, arange\n",
    "from pylab import plot, show\n",
    "\n",
    "g = 9.81\n",
    "ell = 0.1\n",
    "theta0 = 179*pi/180\n",
    "\n",
    "a = 0.0\n",
    "b = 10.0\n",
    "N = 100  # Number of \"big steps\"\n",
    "H = (b-a)/N  # Size of \"big steps\"\n",
    "delta = 1e-8  # Required position accuracy per unit time\n",
    "\n",
    "\n",
    "def f(r):\n",
    "    theta = r[0]\n",
    "    omega = r[1]\n",
    "    ftheta = omega\n",
    "    fomega = -(g/ell)*sin(theta)\n",
    "    return array([ftheta, fomega], float)\n",
    "\n",
    "\n",
    "tpoints = arange(a, b, H)\n",
    "thetapoints = []\n",
    "r = array([theta0, 0.0], float)\n",
    "\n",
    "# Do the \"big steps\" of size H\n",
    "for t in tpoints:\n",
    "\n",
    "    thetapoints.append(r[0])\n",
    "\n",
    "    # Do one modified midpoint step to get things started\n",
    "    n = 1\n",
    "    r1 = r + 0.5*H*f(r)\n",
    "    r2 = r + H*f(r1)\n",
    "\n",
    "    # The array R1 stores the first row of the\n",
    "    # extrapolation table, which contains only the single\n",
    "    # modified midpoint estimate of the solution at the\n",
    "    # end of the interval\n",
    "    R1 = empty([1, 2], float)\n",
    "    R1[0] = 0.5*(r1 + r2 + 0.5*H*f(r2))\n",
    "\n",
    "    # Now increase n until the required accuracy is reached\n",
    "    error = 2*H*delta\n",
    "    while error > H*delta:\n",
    "\n",
    "        n += 1\n",
    "        h = H/n\n",
    "\n",
    "        # Modified midpoint method\n",
    "        r1 = r + 0.5*h*f(r)\n",
    "        r2 = r + h*f(r1)\n",
    "        for i in range(n-1):\n",
    "            r1 += h*f(r2)\n",
    "            r2 += h*f(r1)\n",
    "\n",
    "        # Calculate extrapolation estimates.  Arrays R1 and R2\n",
    "        # hold the two most recent lines of the table\n",
    "        R2 = R1\n",
    "        R1 = empty([n, 2], float)\n",
    "        R1[0] = 0.5*(r1 + r2 + 0.5*h*f(r2))\n",
    "        for m in range(1, n):\n",
    "            epsilon = (R1[m-1]-R2[m-1])/((n/(n-1))**(2*m)-1)\n",
    "            R1[m] = R1[m-1] + epsilon\n",
    "        error = abs(epsilon[0])  # epsilon[0] is theta error\n",
    "\n",
    "    # Set r equal to the most accurate estimate we have,\n",
    "    # before moving on to the next big step\n",
    "    r = R1[n-1]\n",
    "\n",
    "# Plot the results\n",
    "plot(tpoints, thetapoints)\n",
    "plot(tpoints, thetapoints, \"b.\")\n",
    "show()"
   ]
  },
  {
   "cell_type": "markdown",
   "metadata": {
    "slideshow": {
     "slide_type": "subslide"
    }
   },
   "source": [
    "* Notes: This only calculates really accurate values for $x(t+H)$, not the region in between.\n",
    "* Common practice (helps with efficiency/speed):\n",
    "    * If your solution doesn't reach your tolerance level in some `nmax` steps (usually `nmax` $\\sim 8-10$), half your interval and redo in smaller $H$ regions.\n",
    "    * Iterate until your regions are small enough that you reach the tolerance level in `nmax` steps.\n",
    "    * \"Adaptive\" B-S Method!"
   ]
  },
  {
   "cell_type": "markdown",
   "metadata": {
    "slideshow": {
     "slide_type": "slide"
    }
   },
   "source": [
    "# Boundary Value Problems"
   ]
  },
  {
   "cell_type": "markdown",
   "metadata": {
    "slideshow": {
     "slide_type": "subslide"
    }
   },
   "source": [
    "## Shooting method\n",
    "\n",
    "![Newman's fig. 8.11](fig8-11.png)"
   ]
  },
  {
   "cell_type": "markdown",
   "metadata": {
    "slideshow": {
     "slide_type": "-"
    }
   },
   "source": [
    "* Suppose we wanted to choose an initial velocity $v_0$ for a projectile to land after $t_{l}=10$ s.\n",
    "* x(v_0, t) is a nonlinear function of $v_0$, and finding $x(v_0, t=t_l)$ can be done using root finding method (binary search, secant...)\n",
    "* **Shooting method:** integrate the equations and adjust $v_0$ until you locate root."
   ]
  },
  {
   "cell_type": "code",
   "execution_count": 2,
   "metadata": {
    "slideshow": {
     "slide_type": "subslide"
    }
   },
   "outputs": [
    {
     "name": "stdout",
     "output_type": "stream",
     "text": [
      "The required initial velocity is 49.04999999999815 m/s\n"
     ]
    }
   ],
   "source": [
    "# %load throw.py\n",
    "from numpy import array, arange\n",
    "\n",
    "g = 9.81  # Acceleration due to gravity\n",
    "a = 0.0  # Initial time\n",
    "b = 10.0  # Final time\n",
    "N = 1000  # Number of Runge-Kutta steps\n",
    "h = (b-a)/N  # Size of Runge-Kutta steps\n",
    "target = 1e-10  # Target accuracy for binary search\n",
    "\n",
    "\n",
    "def f(r):\n",
    "    \"\"\"Function for Runge-Kutta calculation\"\"\"\n",
    "    x = r[0]\n",
    "    y = r[1]\n",
    "    fx = y\n",
    "    fy = -g\n",
    "    return array([fx, fy], float)\n",
    "\n",
    "\n",
    "def height(v):\n",
    "    \"\"\"Function to solve the equation and calculate the final height\"\"\"\n",
    "    r = array([0.0, v], float)\n",
    "    for t in arange(a, b, h):\n",
    "        k1 = h*f(r)\n",
    "        k2 = h*f(r+0.5*k1)\n",
    "        k3 = h*f(r+0.5*k2)\n",
    "        k4 = h*f(r+k3)\n",
    "        r += (k1+2*k2+2*k3+k4)/6\n",
    "    return r[0]\n",
    "\n",
    "\n",
    "# Main program performs a binary search\n",
    "v1 = 0.01\n",
    "v2 = 1000.0\n",
    "h1 = height(v1)\n",
    "h2 = height(v2)\n",
    "\n",
    "while abs(h2-h1) > target:\n",
    "    vp = (v1+v2)/2\n",
    "    hp = height(vp)\n",
    "    if h1*hp > 0:\n",
    "        v1 = vp\n",
    "        h1 = hp\n",
    "    else:\n",
    "        v2 = vp\n",
    "        h2 = hp\n",
    "\n",
    "v = (v1+v2)/2\n",
    "print(\"The required initial velocity is\", v, \"m/s\")\n"
   ]
  },
  {
   "cell_type": "markdown",
   "metadata": {
    "slideshow": {
     "slide_type": "subslide"
    }
   },
   "source": [
    "## Eigenvalue problems\n",
    "\n",
    "$$-\\frac{\\hbar}{2 m}\\frac{d^2\\psi}{dx^2} + V(x)\\psi = E\\psi,$$\n",
    "$$\\psi(x=0) = \\psi(x=L) = 0.$$\n",
    "\n",
    "* But this approach does not work for finding wavefunctions that satisfy two boundary conditions, as in QM square well, except for valid eigenvalues $E$.\n",
    "\n",
    "![Newman's fig. 8.12](fig8-12.png)\n",
    "\n",
    "* So for these problems, $E$ is the parameter that must be varied instead of the leftmost slope of wavefunction."
   ]
  },
  {
   "cell_type": "markdown",
   "metadata": {
    "slideshow": {
     "slide_type": "slide"
    }
   },
   "source": [
    "# A word on stability\n",
    "\n",
    "* We have focused on accuracy and speed in investigating our solutions to ODEs.\n",
    "* But stability is also important. The stability of solutions tells us how fast initially close solutions diverge from each other.\n",
    "* Some systems are inherently unstable and so will always be challenging to simulate."
   ]
  },
  {
   "cell_type": "markdown",
   "metadata": {
    "slideshow": {
     "slide_type": "fragment"
    }
   },
   "source": [
    "* Stability or instability of a system can be determined from small perturbations to a solution of the ODE.\n",
    "* But even for stable systems, numerical methods can be unstable and give truncation  errors that grow.\n",
    "* Example: $y' = -2.3y$ is a stable system (tends to a finite number). Forward Euler stable for $h=0.7$ but unstable for $h=1$."
   ]
  },
  {
   "cell_type": "code",
   "execution_count": 3,
   "metadata": {
    "slideshow": {
     "slide_type": "subslide"
    }
   },
   "outputs": [],
   "source": [
    "import numpy as np\n",
    "\n",
    "y0 = 1.\n",
    "a = 0.\n",
    "b = 5.\n",
    "h = 1.\n",
    "N = int((b-a)/h)\n",
    "\n",
    "y = np.empty(N)\n",
    "time = np.zeros(N)  # I will use this for plotting\n",
    "y[0] = y0\n",
    "for k in range(1, N):\n",
    "    time[k] = k*h\n",
    "    y[k] = y[k-1] + h*(-2.3*y[k-1])  # Euler time step\n",
    "\n",
    "y_a = np.exp(-2.3*time)  # analytical solution"
   ]
  },
  {
   "cell_type": "code",
   "execution_count": 4,
   "metadata": {
    "slideshow": {
     "slide_type": "subslide"
    }
   },
   "outputs": [
    {
     "data": {
      "image/png": "[encoded data removed]",
      "text/plain": [
       "<Figure size 432x288 with 1 Axes>"
      ]
     },
     "metadata": {
      "needs_background": "light"
     },
     "output_type": "display_data"
    }
   ],
   "source": [
    "import matplotlib.pyplot as plt\n",
    "plt.figure()\n",
    "plt.plot(time, y, label='Euler, h={0:.1f}'.format(h))\n",
    "plt.plot(time, y_a, label='Analytical')\n",
    "plt.xlabel('t')\n",
    "plt.ylabel('y')\n",
    "plt.grid()"
   ]
  },
  {
   "cell_type": "markdown",
   "metadata": {
    "slideshow": {
     "slide_type": "subslide"
    }
   },
   "source": [
    "* Why is forward Euler unstable in some cases?\n",
    "* Explicitly write the solution: for each time step,\n",
    "$$ y_{k+1} = y_{k} + h_k \\lambda y_k \\qquad \\text{(here, $\\lambda=-2.3$)}$$\n",
    "* And for $k$ time steps,\n",
    "$$ y_k = (1+h_k\\lambda)^ky_0.$$\n",
    "* For the method to be stable, the magnitude of growth factor\n",
    "$$|1 + h_k \\lambda|\\leq 1 \\quad\\Rightarrow\\quad \\lambda < 0,\\ h_k \\leq |2/\\lambda|.$$\n",
    "* We will investigate more of this in the coming labs."
   ]
  }
 ],
 "metadata": {
  "celltoolbar": "Slideshow",
  "kernelspec": {
   "display_name": "Python 3",
   "language": "python",
   "name": "python3"
  },
  "language_info": {
   "codemirror_mode": {
    "name": "ipython",
    "version": 3
   },
   "file_extension": ".py",
   "mimetype": "text/x-python",
   "name": "python",
   "nbconvert_exporter": "python",
   "pygments_lexer": "ipython3",
   "version": "3.7.3"
  }
 },
 "nbformat": 4,
 "nbformat_minor": 2
}
