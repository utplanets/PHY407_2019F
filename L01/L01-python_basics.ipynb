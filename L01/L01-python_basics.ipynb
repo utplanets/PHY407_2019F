{
 "cells": [
  {
   "cell_type": "markdown",
   "metadata": {
    "slideshow": {
     "slide_type": "skip"
    }
   },
   "source": [
    "* **Author: Nico Grisouard, nicolas.grisouard@physics.utoronto.ca**\n",
    "* **Author: Christopher Lee, clee@atmosp.physics.utoronto.ca**\n",
    "\n",
    "*Supporting textbook chapters for week 1: 2, 3 and 4.3*\n",
    "\n",
    "This is an example of \"lecture notes\".\n",
    "As you will quickly find out, this course is by nature a lab course.\n",
    "Therefore, my \"lecture notes\" will not often follow the linear progression of regular lecture notes.\n",
    "This is particularly true for this first lecture, in which I merely want to give you pointers to do the first lab."
   ]
  },
  {
   "cell_type": "markdown",
   "metadata": {
    "slideshow": {
     "slide_type": "slide"
    }
   },
   "source": [
    "# Machine error: round-off error.\n",
    "\n",
    "Under what circumstances is the following possible?\n",
    "$$(x+y)+z \\neq x + (y + z)$$\n",
    "\n",
    "Let's try it in Python:"
   ]
  },
  {
   "cell_type": "code",
   "execution_count": null,
   "metadata": {
    "slideshow": {
     "slide_type": "fragment"
    }
   },
   "outputs": [],
   "source": [
    "x,y,z = 1e17,-1e17,1"
   ]
  },
  {
   "cell_type": "code",
   "execution_count": null,
   "metadata": {
    "slideshow": {
     "slide_type": "fragment"
    }
   },
   "outputs": [],
   "source": [
    "(x+y)+z"
   ]
  },
  {
   "cell_type": "code",
   "execution_count": null,
   "metadata": {
    "slideshow": {
     "slide_type": "fragment"
    }
   },
   "outputs": [],
   "source": [
    "x+(y+z)"
   ]
  },
  {
   "cell_type": "markdown",
   "metadata": {
    "slideshow": {
     "slide_type": "fragment"
    }
   },
   "source": [
    "What happened?"
   ]
  },
  {
   "cell_type": "markdown",
   "metadata": {
    "slideshow": {
     "slide_type": "skip"
    }
   },
   "source": [
    "Round-off error!"
   ]
  },
  {
   "cell_type": "markdown",
   "metadata": {
    "slideshow": {
     "slide_type": "slide"
    }
   },
   "source": [
    "# Algorithmic error: instability\n",
    "\n",
    "Consider this system representing phasor rotation in the complex plane:\n",
    "$$\\dot Z = i\\omega Z, \\quad\\text{given}\\quad Z_0 = Z(t=0).$$\n",
    "Solution is\n",
    "$Z(t) = Z_0 \\exp(i\\omega t).$\n",
    "\n",
    "How can we solve it numerically?"
   ]
  },
  {
   "cell_type": "markdown",
   "metadata": {
    "slideshow": {
     "slide_type": "subslide"
    }
   },
   "source": [
    "Taylor expansion:\n",
    "$$\\dot Z(t) = \\frac{Z(t+\\Delta t)-Z(t)}{\\Delta t} + H.O.T. = i\\omega Z(t).$$\n",
    "\n",
    "Suggests algorithm: \n",
    "* Start with $Z(t=0) = Z_{old}$,\n",
    "* $Z_{new} = (1+i\\omega \\Delta t)Z_{old}$,\n",
    "* repeat.\n"
   ]
  },
  {
   "cell_type": "markdown",
   "metadata": {
    "slideshow": {
     "slide_type": "subslide"
    }
   },
   "source": [
    "**Let's code it up and see**"
   ]
  },
  {
   "cell_type": "code",
   "execution_count": null,
   "metadata": {
    "slideshow": {
     "slide_type": "-"
    }
   },
   "outputs": [],
   "source": [
    "# Unstable solution to dz/dt\n",
    "from math import pi\n",
    "\n",
    "Z = complex(1.0, 0.0)  # z0 initial condition\n",
    "omega = 1.0  # angular frequency 2*pi/period\n",
    "dt = 2*pi/(200*omega)  # time step is 200 per period\n",
    "t=0\n",
    "# print initial information\n",
    "print('t = {0}, Z = {1}, |Z| = {2}'.format(0.0, Z, abs(Z)))"
   ]
  },
  {
   "cell_type": "code",
   "execution_count": null,
   "metadata": {
    "slideshow": {
     "slide_type": "fragment"
    }
   },
   "outputs": [],
   "source": [
    "for k in range(200):  # update z\n",
    "    Z *= complex(1.0, dt)  # complex(1.0, dt) is 1+i*dt\n",
    "    t+=dt\n",
    "# print final information\n",
    "print('t = {0}'.format(k*dt))\n",
    "print('Z = {0}'.format(Z))\n",
    "print('|Z| = {0}'.format(abs(Z)))"
   ]
  },
  {
   "cell_type": "markdown",
   "metadata": {
    "slideshow": {
     "slide_type": "fragment"
    }
   },
   "source": [
    "What happened? What is the problem? Why did it happen?"
   ]
  },
  {
   "cell_type": "markdown",
   "metadata": {
    "slideshow": {
     "slide_type": "skip"
    }
   },
   "source": [
    "Next time!"
   ]
  },
  {
   "cell_type": "markdown",
   "metadata": {
    "slideshow": {
     "slide_type": "slide"
    }
   },
   "source": [
    "# Typical approach for solving a problem"
   ]
  },
  {
   "cell_type": "markdown",
   "metadata": {
    "slideshow": {
     "slide_type": "subslide"
    }
   },
   "source": [
    "1. Start with math model, often but not always continuous.\n",
    "2. **Discretize:** set up discrete arrays of independent variables (e.g., $x$, $t$), dependent variables (e.g. $v(t)$, $a(t)$), and define operators on these variables ($dv/dt$, $ma$...).\n",
    "3. **Initialize** parameters and variables appropriately.\n",
    "4. **Evalutize:** run algorithm to operate on these variables.\n",
    "5. **Analyze:** some extra processing of the raw results, figures...\n",
    "\n",
    "See example:"
   ]
  },
  {
   "cell_type": "code",
   "execution_count": null,
   "metadata": {
    "slideshow": {
     "slide_type": "subslide"
    }
   },
   "outputs": [],
   "source": [
    "# Example to illustrate general procedure for mathematical modeling.\n",
    "# Given position x(t) of a particle undergoing SHO,\n",
    "# calculate velocity and acceleration using simple finite difference\n",
    "import numpy as np  # import numpy\n",
    "import matplotlib.pyplot as plt  # import figure functions"
   ]
  },
  {
   "cell_type": "code",
   "execution_count": null,
   "metadata": {
    "slideshow": {
     "slide_type": "fragment"
    }
   },
   "outputs": [],
   "source": [
    "# 2. Discretize\n",
    "\n",
    "#Define time grid and dependent variables\n",
    "t = np.linspace(0, 10, 101)  # time array\n",
    "N = len(t)  # number of time steps\n",
    "x = np.empty(N)  # array of positions\n",
    "v = np.empty(N-1)  # array of velocities\n",
    "a = np.empty(N-2)  # array of accelerations"
   ]
  },
  {
   "cell_type": "code",
   "execution_count": null,
   "metadata": {
    "slideshow": {
     "slide_type": "subslide"
    }
   },
   "outputs": [],
   "source": [
    "# 3. Initialize: define signal on discretized grid\n",
    "x = 3.0*np.sin(t)"
   ]
  },
  {
   "cell_type": "code",
   "execution_count": null,
   "metadata": {
    "slideshow": {
     "slide_type": "fragment"
    }
   },
   "outputs": [],
   "source": [
    "# 2. discretize and 4. evalutize (here, apply algorithm)\n",
    "# Define velocity using finite differences: v = Delta x/Delta t\n",
    "for k in range(len(x)-1):\n",
    "    v[k] = (x[k+1]-x[k])/(t[k+1]-t[k])\n",
    "\n",
    "# Define acceleration using finite differences: a = Delta v/Delta t\n",
    "for k in range(len(x)-2):\n",
    "    a[k] = (v[k+1]-v[k])/(t[k+1]-t[k])"
   ]
  },
  {
   "cell_type": "code",
   "execution_count": null,
   "metadata": {
    "slideshow": {
     "slide_type": "subslide"
    }
   },
   "outputs": [],
   "source": [
    "# 5. Analyze\n",
    "# print results\n",
    "print(\"t is \", t)"
   ]
  },
  {
   "cell_type": "code",
   "execution_count": null,
   "metadata": {
    "slideshow": {
     "slide_type": "subslide"
    }
   },
   "outputs": [],
   "source": [
    "print(\"x is \", x)"
   ]
  },
  {
   "cell_type": "code",
   "execution_count": null,
   "metadata": {
    "slideshow": {
     "slide_type": "subslide"
    }
   },
   "outputs": [],
   "source": [
    "print(\"a is \", a) "
   ]
  },
  {
   "cell_type": "code",
   "execution_count": null,
   "metadata": {
    "slideshow": {
     "slide_type": "subslide"
    }
   },
   "outputs": [],
   "source": [
    "# plot results\n",
    "plt.figure(figsize=(12,8))\n",
    "\n",
    "plt.subplot(3, 1, 1)\n",
    "plt.plot(t, x)\n",
    "plt.xlabel('t')\n",
    "plt.ylabel('x')\n",
    "\n",
    "plt.subplot(3, 1, 2)\n",
    "plt.plot(t[:N-1], v)\n",
    "plt.xlabel('t')\n",
    "plt.ylabel('v')\n",
    "\n",
    "plt.subplot(3, 1, 3)\n",
    "plt.plot(t[:N-2], a)\n",
    "plt.xlabel('t')\n",
    "plt.ylabel('a')\n",
    "\n",
    "plt.tight_layout()\n",
    "# plt.savefig('T01.pdf')  # saves a pdf figure on disk"
   ]
  },
  {
   "cell_type": "markdown",
   "metadata": {
    "slideshow": {
     "slide_type": "slide"
    }
   },
   "source": [
    "# Pseudo-code\n",
    "\n",
    "\n",
    "## General principles\n",
    "\n",
    "* pseudocode is the planned version of your code, written in plain English ($\\neq$ programming language)\n",
    "* You should write one before starting any code.\n",
    "* It should describe your algorithm.\n",
    "* It helps ensure that your planned logic for the algorithm is sound.\n",
    "* In the previous example: the enunmeration (points 1-5) was the skeleton of one."
   ]
  },
  {
   "cell_type": "markdown",
   "metadata": {
    "slideshow": {
     "slide_type": "subslide"
    }
   },
   "source": [
    "* Real text or comments for your real code in the end.\n",
    "* **Keep a copy of it intact** so you can refer to it when you are coding.\n",
    "* Coding = your pseudocode $\\to$ specific programming language. Be able to take your pseudocode and convert it into any typical programming language."
   ]
  },
  {
   "cell_type": "markdown",
   "metadata": {
    "slideshow": {
     "slide_type": "subslide"
    }
   },
   "source": [
    "* Pseudocode: somewhat personal. You do you.\n",
    "* Concise, logical, step-by-step.\n",
    "* Start with **brief** overview of what this piece of code will do. \n",
    "\n",
    "Examples for sequential stuff:\n",
    "* Input: `READ`, `OBTAIN`, `GET`\n",
    "* Initialize: `SET`, `DEFINE`\n",
    "* Compute: `COMPUTE`, `CALCULATE`, `DETERMINE`\n",
    "* Add one: `INCREMENT`, `BUMP`\n",
    "* Output: `PRINT`, `DISPLAY`, `PLOT`, `WRITE`"
   ]
  },
  {
   "cell_type": "markdown",
   "metadata": {
    "slideshow": {
     "slide_type": "subslide"
    }
   },
   "source": [
    "Examples for conditions and loops:\n",
    "* `WHILE`, `IF-THEN-ELSE`, `REPEAT-UNTIL`, `CASE`, `FOR`\n",
    "\n",
    "Should also include calling functions:\n",
    "* `CALL`"
   ]
  },
  {
   "cell_type": "markdown",
   "metadata": {
    "slideshow": {
     "slide_type": "subslide"
    }
   },
   "source": [
    "## Pseudo-code, example 1\n",
    "\n",
    "Convert polar to Cartesian coordinates from keyboard input:\n",
    "\n",
    "$r$, $\\theta$ ($^\\circ$) $\\to$ $x$, $y$.\n",
    "\n",
    "Let's try:"
   ]
  },
  {
   "cell_type": "markdown",
   "metadata": {
    "slideshow": {
     "slide_type": "fragment"
    }
   },
   "source": [
    "1. From keyboard, read radius $r$ and save.\n",
    "2. From keyboard, read angle $\\theta$ in degrees and save.\n",
    "3. Do the conversion from degrees to angles ($\\theta_r = \\pi \\theta/180$).\n",
    "4. Compute $(x, y) = r(\\cos\\theta_r, \\sin\\theta_r)$.\n",
    "5. Print result to screen."
   ]
  },
  {
   "cell_type": "markdown",
   "metadata": {
    "slideshow": {
     "slide_type": "subslide"
    }
   },
   "source": [
    "Alternative: write the pseudo-code code comments."
   ]
  },
  {
   "cell_type": "code",
   "execution_count": null,
   "metadata": {
    "slideshow": {
     "slide_type": "fragment"
    }
   },
   "outputs": [],
   "source": [
    "#1. From keyboard, read radius $r$ and save.\n",
    "#2. From keyboard, read angle $\\theta$ in degrees and save.\n",
    "#3. Do the conversion from degrees to angles ($\\theta_r = \\pi \\theta/180$).\n",
    "#4. Compute $(x, y) = r(\\cos\\theta_r, \\sin\\theta_r)$.\n",
    "#5. Print result to screen."
   ]
  },
  {
   "cell_type": "code",
   "execution_count": null,
   "metadata": {
    "slideshow": {
     "slide_type": "subslide"
    }
   },
   "outputs": [],
   "source": [
    "# Re-import numpy, in case I am executing cells in random order\n",
    "import numpy as np"
   ]
  },
  {
   "cell_type": "code",
   "execution_count": null,
   "metadata": {
    "slideshow": {
     "slide_type": "fragment"
    }
   },
   "outputs": [],
   "source": [
    "# 1. From keyboard, read the radius and save.\n",
    "r = float(input(\"Enter r:\"))"
   ]
  },
  {
   "cell_type": "code",
   "execution_count": null,
   "metadata": {
    "slideshow": {
     "slide_type": "fragment"
    }
   },
   "outputs": [],
   "source": [
    "# 2. From keyboard, read de angle $\\theta$ in degrees and save.\n",
    "theta_deg = float(input(\"Enter theta in degrees:\"))"
   ]
  },
  {
   "cell_type": "code",
   "execution_count": null,
   "metadata": {
    "slideshow": {
     "slide_type": "fragment"
    }
   },
   "outputs": [],
   "source": [
    "# 3. Do the conversion from degrees to angles ($\\theta_r = \\pi \\theta/180$).\n",
    "theta_r = np.pi*theta_deg/180."
   ]
  },
  {
   "cell_type": "code",
   "execution_count": null,
   "metadata": {
    "slideshow": {
     "slide_type": "fragment"
    }
   },
   "outputs": [],
   "source": [
    "# 4. Compute $(x, y) = r(\\cos\\theta_r, \\sin\\theta_r)$.\n",
    "x = r * np.cos(theta_r)\n",
    "y = r * np.sin(theta_r)"
   ]
  },
  {
   "cell_type": "code",
   "execution_count": null,
   "metadata": {
    "slideshow": {
     "slide_type": "fragment"
    }
   },
   "outputs": [],
   "source": [
    "# 5. Print result to screen.\n",
    "print(\"x = \", x, \"y = \", y)"
   ]
  },
  {
   "cell_type": "markdown",
   "metadata": {
    "slideshow": {
     "slide_type": "subslide"
    }
   },
   "source": [
    "## Pseudo-code, example 2\n",
    "\n",
    "* Number of radioactive atoms of uranium $N$ as a function of time given initial $N_0$ and\n",
    "$$\\frac{dN}{dt} = -\\frac{N}{\\tau}.$$\n",
    "($\\tau =$ decay constant)\n",
    "* Use Euler method for integration."
   ]
  },
  {
   "cell_type": "code",
   "execution_count": null,
   "metadata": {
    "slideshow": {
     "slide_type": "subslide"
    }
   },
   "outputs": [],
   "source": [
    "# Pseudocode:\n",
    "\n",
    "# 1. Define decay constant tau, initial N0, and end time 5*tau\n",
    "# 2. Initialize time and time array with 101 values\n",
    "# 3. Compute dt the time step because we'll need it\n",
    "# 4. Initialize a number array with same number of particles\n",
    "# 5. Increment the N array with Euler: N[i+1] = N[i] - dt*N[i]/tau\n",
    "# 6. Plot N vs. t"
   ]
  },
  {
   "cell_type": "code",
   "execution_count": null,
   "metadata": {
    "slideshow": {
     "slide_type": "subslide"
    }
   },
   "outputs": [],
   "source": [
    "# Code that computes the number of radioactive atoms of uranium N\n",
    "# as fct of time, given tau and N0 and using Euler method.\n",
    "# Author: Nicolas Grisouard\n",
    "\n",
    "# Re-import, in case I am executing cells in random order\n",
    "import numpy as np\n",
    "import matplotlib.pyplot as plt"
   ]
  },
  {
   "cell_type": "code",
   "execution_count": null,
   "metadata": {
    "slideshow": {
     "slide_type": "skip"
    }
   },
   "outputs": [],
   "source": [
    "# I skipped this cell in class: it is a conversion of the \n",
    "# half-life of U238 (which is easily found on Wikipedia)\n",
    "# and the decay rate (which for some reason is not)\n",
    "print(\"{0:1.3e}\".format(4.468e9/np.log(2.)))"
   ]
  },
  {
   "cell_type": "code",
   "execution_count": null,
   "metadata": {
    "slideshow": {
     "slide_type": "fragment"
    }
   },
   "outputs": [],
   "source": [
    "# 1. Define decay constant tau, initial N0, and end time 5*tau\n",
    "tau = 6.446e9  # [s] tau for U238\n",
    "N0 = 1e9  # [1] why not\n",
    "t_end = 5*tau  # [s] the end of the simulation time"
   ]
  },
  {
   "cell_type": "code",
   "execution_count": null,
   "metadata": {
    "slideshow": {
     "slide_type": "fragment"
    }
   },
   "outputs": [],
   "source": [
    "# 2. Initialize time array with 101 values\n",
    "t_array = np.linspace(0, t_end, 101)\n",
    "# 3. Compute dt the time step because we'll need it\n",
    "dt = t_array[1] - t_array[0]\n",
    "# 4. Initialize a number array with same number of elements\n",
    "N_array = 0*t\n",
    "N_array[0] = N0"
   ]
  },
  {
   "cell_type": "code",
   "execution_count": null,
   "metadata": {
    "slideshow": {
     "slide_type": "fragment"
    }
   },
   "outputs": [],
   "source": [
    "# 5. Increment the N array with Euler: N[i+1] = N[i] - dt*N[i]/tau\n",
    "for i in range(len(t_array)-1):  # I end at the second-to-last value\n",
    "    N_array[i+1] = (1. - dt/tau)*N_array[i]"
   ]
  },
  {
   "cell_type": "code",
   "execution_count": null,
   "metadata": {
    "slideshow": {
     "slide_type": "subslide"
    }
   },
   "outputs": [],
   "source": [
    "# 6. Plot N vs. t\n",
    "plt.figure()\n",
    "plt.plot(t_array, N_array)\n",
    "plt.xlabel('t (a)')\n",
    "plt.ylabel('N')\n",
    "plt.grid()"
   ]
  }
 ],
 "metadata": {
  "celltoolbar": "Slideshow",
  "kernelspec": {
   "display_name": "Python 3",
   "language": "python",
   "name": "python3"
  },
  "language_info": {
   "codemirror_mode": {
    "name": "ipython",
    "version": 3
   },
   "file_extension": ".py",
   "mimetype": "text/x-python",
   "name": "python",
   "nbconvert_exporter": "python",
   "pygments_lexer": "ipython3",
   "version": "3.7.3"
  },
  "latex_metadata": {
   "affiliation": "PHY407, University of Toronto",
   "author": "Christopher Lee",
   "title": "Lecture 1: python basics"
  }
 },
 "nbformat": 4,
 "nbformat_minor": 2
}
